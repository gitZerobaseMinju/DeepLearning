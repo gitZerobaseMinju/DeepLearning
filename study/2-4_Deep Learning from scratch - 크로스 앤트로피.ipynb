{
 "cells": [
  {
   "cell_type": "code",
   "execution_count": 1,
   "id": "0b24cdda",
   "metadata": {},
   "outputs": [],
   "source": [
    "import numpy as np\n",
    "\n",
    "X = np.array([\n",
    "    [0, 0, 1],\n",
    "    [0, 1, 1],\n",
    "    [1, 0, 1],\n",
    "    [1, 1, 1]\n",
    "])\n",
    "\n",
    "D = np.array([[0], [1], [1], [0]])\n",
    "\n",
    "W1 = 2 * np.random.random((4, 3)) - 1\n",
    "W2 = 2 * np.random.random((1, 4)) - 1"
   ]
  },
  {
   "cell_type": "code",
   "execution_count": 9,
   "id": "b5d3b4b2",
   "metadata": {},
   "outputs": [],
   "source": [
    "def sigmoid(x):\n",
    "    return 1.0 / (1.0 + np.exp(-x))"
   ]
  },
  {
   "cell_type": "code",
   "execution_count": 2,
   "id": "0a00c7e2",
   "metadata": {},
   "outputs": [],
   "source": [
    "def calc_output(W1, W2, x):\n",
    "    v1 = np.matmul(W1, x)\n",
    "    y1 = sigmoid(v1)\n",
    "    v = np.matmul(W2, y1)\n",
    "    y = sigmoid(v)\n",
    "    \n",
    "    return y, y1"
   ]
  },
  {
   "cell_type": "code",
   "execution_count": 5,
   "id": "0b2908e4",
   "metadata": {},
   "outputs": [],
   "source": [
    "def calcDelta_ce(d,y):\n",
    "    e = d - y\n",
    "    delta = e\n",
    "\n",
    "    return delta"
   ]
  },
  {
   "cell_type": "code",
   "execution_count": 6,
   "id": "28a08b69",
   "metadata": {},
   "outputs": [],
   "source": [
    "def calcDelta1_ce(W2, delta, y1):\n",
    "    e1 = np.matmul(W2.T, delta)\n",
    "    delta1 = y1*(1-y1)*e1\n",
    "    \n",
    "    return delta1"
   ]
  },
  {
   "cell_type": "code",
   "execution_count": 7,
   "id": "c57ec3f7",
   "metadata": {},
   "outputs": [],
   "source": [
    "def backpropCE(W1, W2, X, D, alpha):\n",
    "    for k in range(4):\n",
    "        x = X[k, :].T\n",
    "        d = D[k]\n",
    "        \n",
    "        y, y1 = calc_output(W1, W2, x)\n",
    "        delta = calcDelta_ce(d, y)\n",
    "        delta1 = calcDelta1_ce(W2, delta, y1)\n",
    "        \n",
    "        dW1 = (alpha*delta1).reshape(4,1) * x.reshape(1,3)\n",
    "        W1 = W1 + dW1\n",
    "        \n",
    "        dW2 = alpha * delta * y1\n",
    "        W2 = W2 + dW2\n",
    "        \n",
    "    return W1, W2"
   ]
  },
  {
   "cell_type": "code",
   "execution_count": 10,
   "id": "7b91ac37",
   "metadata": {},
   "outputs": [],
   "source": [
    "alpha = 0.9\n",
    "for epoch in range(10000):\n",
    "    W1, W2 = backpropCE(W1, W2, X, D, alpha=0.9)"
   ]
  },
  {
   "cell_type": "code",
   "execution_count": 11,
   "id": "49122095",
   "metadata": {},
   "outputs": [
    {
     "name": "stdout",
     "output_type": "stream",
     "text": [
      "[5.059184e-05]\n",
      "[0.99977569]\n",
      "[0.99986763]\n",
      "[0.00033127]\n"
     ]
    }
   ],
   "source": [
    "N = 4\n",
    "\n",
    "for k in range(N):\n",
    "    x = X[k, :].T\n",
    "    v1 = np.matmul(W1, x)\n",
    "    y1 = sigmoid(v1)\n",
    "    v = np.matmul(W2, y1)\n",
    "    y = sigmoid(v)\n",
    "    \n",
    "    print(y)"
   ]
  },
  {
   "cell_type": "code",
   "execution_count": null,
   "id": "558eb644",
   "metadata": {},
   "outputs": [],
   "source": []
  }
 ],
 "metadata": {
  "kernelspec": {
   "display_name": "python 3.8.15('ds_study':conda)",
   "language": "python",
   "name": "ds_study"
  },
  "language_info": {
   "codemirror_mode": {
    "name": "ipython",
    "version": 3
   },
   "file_extension": ".py",
   "mimetype": "text/x-python",
   "name": "python",
   "nbconvert_exporter": "python",
   "pygments_lexer": "ipython3",
   "version": "3.8.15"
  }
 },
 "nbformat": 4,
 "nbformat_minor": 5
}
