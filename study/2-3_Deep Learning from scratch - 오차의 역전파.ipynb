{
 "cells": [
  {
   "cell_type": "code",
   "execution_count": 2,
   "id": "c03ba153",
   "metadata": {},
   "outputs": [],
   "source": [
    "import numpy as np\n",
    "\n",
    "X = np.array([\n",
    "    [0, 0, 1],\n",
    "    [0, 1, 1],\n",
    "    [1, 0, 1],\n",
    "    [1, 1, 1]\n",
    "])\n",
    "\n",
    "D = np.array([[0], [1], [1], [0]])\n",
    "\n",
    "W = 2 * np.random.random((1, 3)) - 1"
   ]
  },
  {
   "cell_type": "code",
   "execution_count": 3,
   "id": "d403f2c5",
   "metadata": {},
   "outputs": [],
   "source": [
    "def sigmoid(x):\n",
    "    return 1.0 / (1.0 + np.exp(-x))"
   ]
  },
  {
   "cell_type": "code",
   "execution_count": 4,
   "id": "6fe663d0",
   "metadata": {},
   "outputs": [],
   "source": [
    "def calc_output(W, x):\n",
    "    v = np.matmul(W, x)\n",
    "    y = sigmoid(v)\n",
    "    \n",
    "    return y"
   ]
  },
  {
   "cell_type": "code",
   "execution_count": 5,
   "id": "67b17d15",
   "metadata": {},
   "outputs": [],
   "source": [
    "def calc_error(d, y):\n",
    "    e = d - y\n",
    "    delta = y * (1 - y) * e\n",
    "    \n",
    "    return delta"
   ]
  },
  {
   "cell_type": "code",
   "execution_count": 6,
   "id": "c9739698",
   "metadata": {},
   "outputs": [],
   "source": [
    "def delta_GD(W, X, D, alpha):\n",
    "    for k in range(4):\n",
    "        x = X[k, :].T\n",
    "        d = D[k]\n",
    "        \n",
    "        y = calc_output(W, x)\n",
    "        delta = calc_error(d, y)\n",
    "        \n",
    "        dW = alpha * delta * x\n",
    "        W = W + dW\n",
    "        \n",
    "    return W"
   ]
  },
  {
   "cell_type": "code",
   "execution_count": 7,
   "id": "391f75a9",
   "metadata": {},
   "outputs": [],
   "source": [
    "alpha = 0.9\n",
    "for epoch in range(10000):\n",
    "    W = delta_GD(W, X, D, alpha)"
   ]
  },
  {
   "cell_type": "code",
   "execution_count": 8,
   "id": "792f030e",
   "metadata": {},
   "outputs": [
    {
     "name": "stdout",
     "output_type": "stream",
     "text": [
      "[0.52965337]\n",
      "[0.5]\n",
      "[0.47034663]\n",
      "[0.44090112]\n"
     ]
    }
   ],
   "source": [
    "N = 4\n",
    "\n",
    "for k in range(N):\n",
    "    x = X[k, :].T\n",
    "    v = np.matmul(W, x)\n",
    "    y = sigmoid(v)\n",
    "    \n",
    "    print(y)"
   ]
  },
  {
   "cell_type": "markdown",
   "id": "2ce6df00",
   "metadata": {},
   "source": [
    "-----------------------------"
   ]
  },
  {
   "cell_type": "code",
   "execution_count": 9,
   "id": "6f02445c",
   "metadata": {},
   "outputs": [],
   "source": [
    "def calc_output(W1, W2, x):\n",
    "    v1 = np.matmul(W1, x)\n",
    "    y1 = sigmoid(v1)\n",
    "    v = np.matmul(W2, y1)\n",
    "    y = sigmoid(v)\n",
    "    \n",
    "    return y, y1"
   ]
  },
  {
   "cell_type": "code",
   "execution_count": 10,
   "id": "efb65767",
   "metadata": {},
   "outputs": [],
   "source": [
    "def calc_delta(d, y):\n",
    "    e = d - y\n",
    "    delta = y * (1 - y) * e\n",
    "    \n",
    "    return delta"
   ]
  },
  {
   "cell_type": "code",
   "execution_count": 11,
   "id": "14d78945",
   "metadata": {},
   "outputs": [],
   "source": [
    "def calc_dalta1(W2, delta, y1):\n",
    "    e1 = np.matmul(W2.T, delta)\n",
    "    delta1 = y1*(1-y1)*e1\n",
    "    \n",
    "    return delta1"
   ]
  },
  {
   "cell_type": "code",
   "execution_count": 12,
   "id": "86becbbc",
   "metadata": {},
   "outputs": [],
   "source": [
    "def backprop_XOR(W1, W2, X, D, alpha):\n",
    "    for k in range(4):\n",
    "        x = X[k, :].T\n",
    "        d = D[k]\n",
    "        \n",
    "        y, y1 = calc_output(W1, W2, x)\n",
    "        delta = calc_delta(d, y)\n",
    "        delta1 = calc_dalta1(W2, delta, y1)\n",
    "        \n",
    "        dW1 = (alpha*delta1).reshape(4,1) * x.reshape(1,3)\n",
    "        W1 = W1 + dW1\n",
    "        \n",
    "        dW2 = alpha * delta * y1\n",
    "        W2 = W2 + dW2\n",
    "        \n",
    "    return W1, W2"
   ]
  },
  {
   "cell_type": "code",
   "execution_count": 13,
   "id": "6b5db5d2",
   "metadata": {},
   "outputs": [],
   "source": [
    "import numpy as np\n",
    "\n",
    "X = np.array([\n",
    "    [0, 0, 1],\n",
    "    [0, 1, 1],\n",
    "    [1, 0, 1],\n",
    "    [1, 1, 1]\n",
    "])\n",
    "\n",
    "D = np.array([[0], [1], [1], [0]])\n",
    "\n",
    "W1 = 2 * np.random.random((4, 3)) - 1\n",
    "W2 = 2 * np.random.random((1, 4)) - 1"
   ]
  },
  {
   "cell_type": "code",
   "execution_count": 14,
   "id": "0b9d4629",
   "metadata": {},
   "outputs": [],
   "source": [
    "alpha = 0.8\n",
    "for epoch in range(10000):\n",
    "    W1, W2 = backprop_XOR(W1, W2, X, D, alpha)"
   ]
  },
  {
   "cell_type": "code",
   "execution_count": 16,
   "id": "d4ddf0a1",
   "metadata": {},
   "outputs": [
    {
     "name": "stdout",
     "output_type": "stream",
     "text": [
      "[0.00932008]\n",
      "[0.99014579]\n",
      "[0.99002504]\n",
      "[0.01401354]\n"
     ]
    }
   ],
   "source": [
    "N = 4\n",
    "\n",
    "for k in range(N):\n",
    "    x = X[k, :].T\n",
    "    v1 = np.matmul(W1, x)\n",
    "    y1 = sigmoid(v1)\n",
    "    v = np.matmul(W2, y1)\n",
    "    y = sigmoid(v)\n",
    "    \n",
    "    print(y)"
   ]
  },
  {
   "cell_type": "code",
   "execution_count": null,
   "id": "931db23a",
   "metadata": {},
   "outputs": [],
   "source": []
  }
 ],
 "metadata": {
  "kernelspec": {
   "display_name": "python 3.8.15('ds_study':conda)",
   "language": "python",
   "name": "ds_study"
  },
  "language_info": {
   "codemirror_mode": {
    "name": "ipython",
    "version": 3
   },
   "file_extension": ".py",
   "mimetype": "text/x-python",
   "name": "python",
   "nbconvert_exporter": "python",
   "pygments_lexer": "ipython3",
   "version": "3.8.15"
  }
 },
 "nbformat": 4,
 "nbformat_minor": 5
}
